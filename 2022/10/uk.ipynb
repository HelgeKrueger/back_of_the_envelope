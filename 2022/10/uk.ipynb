{
 "cells": [
  {
   "cell_type": "code",
   "execution_count": 6,
   "metadata": {},
   "outputs": [],
   "source": [
    "import seaborn\n",
    "import json\n",
    "import random"
   ]
  },
  {
   "cell_type": "markdown",
   "metadata": {},
   "source": [
    "The following model is based on needing to get 100 MPs to endorse you. Also everythin, I don't know is assumed to be random with uniformly distributed probabilities.\n",
    "\n",
    "G3: https://www.theguardian.com/politics/2022/oct/21/boris-johnson-penny-mordaunt-rishi-sunak-who-backing-next-tory-leader"
   ]
  },
  {
   "cell_type": "code",
   "execution_count": 67,
   "metadata": {},
   "outputs": [
    {
     "name": "stdout",
     "output_type": "stream",
     "text": [
      "Remaining MPS 171\n"
     ]
    },
    {
     "data": {
      "text/plain": [
       "{'johnson': 101, 'sunak': 899, 'mordaunt': 0, 'other': 0}"
      ]
     },
     "execution_count": 67,
     "metadata": {},
     "output_type": "execute_result"
    }
   ],
   "source": [
    "mp_votes_base = {\n",
    "    'johnson': 52,\n",
    "    'sunak': 111,\n",
    "    'mordaunt': 23,\n",
    "    'other': 0\n",
    "} # From G3\n",
    "total_mp_tories = 357\n",
    "\n",
    "left_over_mp = total_mp_tories - sum(mp_votes_base.values())\n",
    "print(f\"Remaining MPS {left_over_mp}\")\n",
    "\n",
    "def random_vote():\n",
    "    votes = dict(mp_votes_base)\n",
    "    for _ in range(left_over_mp):\n",
    "        possible_choices = [key for key, value in votes.items()]\n",
    "        vote  = random.choice(possible_choices)\n",
    "        votes[vote] += 1\n",
    "    return votes\n",
    "\n",
    "chances = {name: 0 for name in mp_votes_base.keys()}\n",
    "\n",
    "for _ in range(1000):\n",
    "    vote = random_vote()\n",
    "    choices = [key for key, value in vote.items() if value >= 100]\n",
    "    next_pm = random.choice(choices)\n",
    "    chances[next_pm] += 1\n",
    "\n",
    "chances"
   ]
  }
 ],
 "metadata": {
  "kernelspec": {
   "display_name": "Python 3.10.6 ('back_of_the_envelope-qbOw2DZc')",
   "language": "python",
   "name": "python3"
  },
  "language_info": {
   "codemirror_mode": {
    "name": "ipython",
    "version": 3
   },
   "file_extension": ".py",
   "mimetype": "text/x-python",
   "name": "python",
   "nbconvert_exporter": "python",
   "pygments_lexer": "ipython3",
   "version": "3.10.6"
  },
  "orig_nbformat": 4,
  "vscode": {
   "interpreter": {
    "hash": "2b3a957d5c71eb897eecb845f2b11c7856657a9e8814c9a199ed3db0a6ec2c41"
   }
  }
 },
 "nbformat": 4,
 "nbformat_minor": 2
}
