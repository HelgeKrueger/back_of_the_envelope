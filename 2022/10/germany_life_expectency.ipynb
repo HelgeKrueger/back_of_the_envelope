{
 "cells": [
  {
   "cell_type": "code",
   "execution_count": 88,
   "metadata": {},
   "outputs": [],
   "source": [
    "import sys\n",
    "sys.path\n",
    "sys.path.append('/home/helge/code/back_of_the_envelope')\n",
    "\n",
    "import pandas as pd\n",
    "import random\n",
    "import json\n",
    "import re\n",
    "import numpy as np\n",
    "\n",
    "population = pd.read_csv('data/12411-0005.csv', sep=';', encoding='latin1', skiprows=range(5))\n",
    "deaths = pd.read_csv('data/12613-0003.csv', sep=';', encoding='latin1', skiprows=range(5))\n",
    "deaths = deaths[deaths['Unnamed: 0'] == 'Insgesamt']"
   ]
  },
  {
   "cell_type": "code",
   "execution_count": 77,
   "metadata": {},
   "outputs": [],
   "source": [
    "data = {\n",
    "    \"age\": [],\n",
    "    \"population\": [],\n",
    "    \"deaths\": []\n",
    "}\n",
    "\n",
    "for _, row in population.iterrows():\n",
    "    age = row['Unnamed: 0']\n",
    "    pop = row['Stichtag.4']\n",
    "    if type(age) == str:\n",
    "        # print(age)\n",
    "        if age.startswith('unter'):\n",
    "            data[\"age\"].append(0)\n",
    "            data[\"population\"].append(int(pop))\n",
    "        elif age.endswith('Jährige') or age.endswith(' und mehr'):\n",
    "            data[\"age\"].append(int(re.match(r\"\\d+\", age).group()))\n",
    "            data[\"population\"].append(int(pop))\n",
    "        else:\n",
    "            pass\n",
    "            # print(row)"
   ]
  },
  {
   "cell_type": "code",
   "execution_count": 78,
   "metadata": {},
   "outputs": [],
   "source": [
    "for _, row in deaths.iterrows():\n",
    "    age = row['Unnamed: 1']\n",
    "    pop = row['2021']\n",
    "    # print(row)\n",
    "    if type(age) == str:\n",
    "        # print(age)\n",
    "        if age.startswith('unter'):\n",
    "            # data[\"age\"].append(0)\n",
    "            data[\"deaths\"].append(int(pop))\n",
    "        elif age.endswith('Jährige') or age.endswith(' und mehr'):\n",
    "            age_int = int(re.match(r\"\\d+\", age).group())\n",
    "            if age_int <= 85:\n",
    "                data[\"deaths\"].append(int(pop))\n",
    "            else:\n",
    "                data[\"deaths\"][-1] += int(pop)\n",
    "        else:\n",
    "            pass"
   ]
  },
  {
   "cell_type": "code",
   "execution_count": 81,
   "metadata": {},
   "outputs": [
    {
     "data": {
      "text/plain": [
       "<AxesSubplot: xlabel='age', ylabel='chance'>"
      ]
     },
     "execution_count": 81,
     "metadata": {},
     "output_type": "execute_result"
    },
    {
     "data": {
      "image/png": "[encoded data removed]",
      "text/plain": [
       "<Figure size 640x480 with 1 Axes>"
      ]
     },
     "metadata": {},
     "output_type": "display_data"
    }
   ],
   "source": [
    "{k: len(v) for k,v in data.items()}\n",
    "df = pd.DataFrame(data)\n",
    "df['chance'] = df.deaths / df.population\n",
    "\n",
    "df.plot.scatter('age', 'chance')"
   ]
  },
  {
   "cell_type": "code",
   "execution_count": 82,
   "metadata": {},
   "outputs": [],
   "source": [
    "chance_to_die_lookup = {\n",
    "    row['age']: row['chance'] for _, row in df.iterrows()\n",
    "}"
   ]
  },
  {
   "cell_type": "code",
   "execution_count": 101,
   "metadata": {},
   "outputs": [
    {
     "data": {
      "text/plain": [
       "80.57"
      ]
     },
     "execution_count": 101,
     "metadata": {},
     "output_type": "execute_result"
    }
   ],
   "source": [
    "def will_die(age):\n",
    "    if age >= 85:\n",
    "        return random.random() < chance_to_die_lookup[85]\n",
    "    else:\n",
    "        return random.random() < chance_to_die_lookup[age]\n",
    "\n",
    "def random_age():\n",
    "    age = 30\n",
    "    while not will_die(age):\n",
    "        age += 1\n",
    "    return age\n",
    "\n",
    "np.mean([random_age() for _ in range(1000)])"
   ]
  }
 ],
 "metadata": {
  "kernelspec": {
   "display_name": "Python 3 (ipykernel)",
   "language": "python",
   "name": "python3"
  },
  "language_info": {
   "codemirror_mode": {
    "name": "ipython",
    "version": 3
   },
   "file_extension": ".py",
   "mimetype": "text/x-python",
   "name": "python",
   "nbconvert_exporter": "python",
   "pygments_lexer": "ipython3",
   "version": "3.10.6"
  },
  "vscode": {
   "interpreter": {
    "hash": "2b3a957d5c71eb897eecb845f2b11c7856657a9e8814c9a199ed3db0a6ec2c41"
   }
  }
 },
 "nbformat": 4,
 "nbformat_minor": 2
}
