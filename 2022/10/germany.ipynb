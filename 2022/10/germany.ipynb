{
 "cells": [
  {
   "cell_type": "code",
   "execution_count": 1,
   "metadata": {},
   "outputs": [],
   "source": [
    "import sys\n",
    "sys.path\n",
    "sys.path.append('/home/helge/code/back_of_the_envelope')\n",
    "\n",
    "import pandas as pd\n",
    "import random\n",
    "\n",
    "df = pd.read_html('https://www.wahlrecht.de/umfragen/landtage/bremen.htm')[1]\n",
    "allensbach = pd.read_html('https://www.wahlrecht.de/umfragen/allensbach.htm')[1]\n",
    "\n",
    "parties = ['CDU', 'SPD', 'GRÜNE', 'FDP', 'LINKE', 'AfD', 'Sonstige']\n",
    "row = df.iloc[0]\n",
    "polling_data = {\n",
    "    p: int(row[p].split(\" \")[0])\n",
    "for p in parties\n",
    "}"
   ]
  },
  {
   "cell_type": "code",
   "execution_count": 2,
   "metadata": {},
   "outputs": [
    {
     "data": {
      "text/plain": [
       "{'CDU': 22.197309417040348,\n",
       " 'SPD': 37.89237668161434,\n",
       " 'GRÜNE': 22.42152466367712,\n",
       " 'FDP': 8.968609865470869,\n",
       " 'LINKE': 8.520179372197326}"
      ]
     },
     "execution_count": 2,
     "metadata": {},
     "output_type": "execute_result"
    }
   ],
   "source": [
    "from forecasters.election import ElectionForecaster\n",
    "\n",
    "bremen_forecaster = ElectionForecaster(polling_data)\n",
    "next(bremen_forecaster.predict(1))"
   ]
  },
  {
   "cell_type": "code",
   "execution_count": 3,
   "metadata": {},
   "outputs": [
    {
     "name": "stdout",
     "output_type": "stream",
     "text": [
      "{'CDU': 1000, 'SPD': 1000, 'GRÜNE': 1000, 'FDP': 871, 'LINKE': 996, 'AfD': 836, 'Sonstige': 0}\n",
      "976\n"
     ]
    }
   ],
   "source": [
    "in_parliament = {p: 0 for p in parties}\n",
    "\n",
    "number_red_green = 0\n",
    "\n",
    "for x in bremen_forecaster.predict(1000):\n",
    "    for p in x.keys():\n",
    "        in_parliament[p] += 1\n",
    "    for p, v in x.items():\n",
    "        if v > 50:\n",
    "            print(f\"{p} has majority\")\n",
    "\n",
    "    if x[\"SPD\"] + x[\"GRÜNE\"] > 50:\n",
    "        number_red_green += 1\n",
    "\n",
    "print(in_parliament)\n",
    "print(number_red_green)"
   ]
  },
  {
   "cell_type": "code",
   "execution_count": 11,
   "metadata": {},
   "outputs": [
    {
     "name": "stdout",
     "output_type": "stream",
     "text": [
      "{'CSU': 1000, 'SPD': 1000, 'GRÜNE': 1000, 'FDP': 853, 'LINKE': 0, 'FW': 1000, 'AfD': 999, 'Sonstige': 0}\n",
      "0\n"
     ]
    }
   ],
   "source": [
    "df = pd.read_html('https://www.wahlrecht.de/umfragen/landtage/bayern.htm')[1]\n",
    "row = df.iloc[0]\n",
    "parties = ['CSU',\n",
    "       'SPD', 'GRÜNE', 'FDP', 'LINKE', 'FW', 'AfD', 'Sonstige']\n",
    "polling_data = {\n",
    "    p: int(row[p].split(\" \")[0])\n",
    "       for p in parties\n",
    "}\n",
    "bayern_forecaster = ElectionForecaster(polling_data)\n",
    "\n",
    "in_parliament = {p: 0 for p in parties}\n",
    "\n",
    "number_red_green = 0\n",
    "\n",
    "for x in bayern_forecaster.predict(1000):\n",
    "    for p in x.keys():\n",
    "        in_parliament[p] += 1\n",
    "    for p, v in x.items():\n",
    "        if v > 50:\n",
    "            print(f\"{p} has majority\")\n",
    "\n",
    "    if x[\"SPD\"] + x[\"GRÜNE\"] > 50:\n",
    "        number_red_green += 1\n",
    "\n",
    "print(in_parliament)\n",
    "print(number_red_green)"
   ]
  },
  {
   "cell_type": "code",
   "execution_count": 14,
   "metadata": {},
   "outputs": [
    {
     "name": "stdout",
     "output_type": "stream",
     "text": [
      "{'CSU': 1000, 'SPD': 1000, 'GRÜNE': 1000, 'FDP': 850, 'LINKE': 0, 'FW': 1000, 'AfD': 1000, 'Sonstige': 0}\n",
      "{'CSU_SPD': 844, 'CSU_GRÜNE': 1000, 'CSU_FW': 712, 'CSU_AfD': 832, 'CSU_FDP': 200}\n"
     ]
    }
   ],
   "source": [
    "from itertools import combinations\n",
    "\n",
    "in_parliament = {p: 0 for p in parties}\n",
    "majorities = {}\n",
    "\n",
    "number_red_green = 0\n",
    "\n",
    "for x in bayern_forecaster.predict(1000):\n",
    "    for p in x.keys():\n",
    "        in_parliament[p] += 1\n",
    "    for p, v in x.items():\n",
    "        if v > 50:\n",
    "            print(f\"{p} has majority\")\n",
    "\n",
    "    pip = list(x.keys())\n",
    "\n",
    "    for a, b in combinations(pip, 2):\n",
    "        if x[a] + x[b] > 50:\n",
    "            if f\"{a}_{b}\" in majorities:\n",
    "                majorities[f\"{a}_{b}\"] += 1\n",
    "            else:\n",
    "                majorities[f\"{a}_{b}\"] = 1\n",
    "\n",
    "print(in_parliament)\n",
    "print(majorities)"
   ]
  }
 ],
 "metadata": {
  "kernelspec": {
   "display_name": "Python 3 (ipykernel)",
   "language": "python",
   "name": "python3"
  },
  "language_info": {
   "codemirror_mode": {
    "name": "ipython",
    "version": 3
   },
   "file_extension": ".py",
   "mimetype": "text/x-python",
   "name": "python",
   "nbconvert_exporter": "python",
   "pygments_lexer": "ipython3",
   "version": "3.10.6"
  },
  "vscode": {
   "interpreter": {
    "hash": "2b3a957d5c71eb897eecb845f2b11c7856657a9e8814c9a199ed3db0a6ec2c41"
   }
  }
 },
 "nbformat": 4,
 "nbformat_minor": 2
}
