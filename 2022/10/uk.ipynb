{
 "cells": [
  {
   "cell_type": "markdown",
   "metadata": {},
   "source": [
    "The following model is based on needing to get 100 MPs to endorse you. Also everythin, I don't know is assumed to be random with uniformly distributed probabilities.\n",
    "\n",
    "G3: https://www.theguardian.com/politics/2022/oct/21/boris-johnson-penny-mordaunt-rishi-sunak-who-backing-next-tory-leader"
   ]
  },
  {
   "cell_type": "code",
   "execution_count": 8,
   "metadata": {},
   "outputs": [
    {
     "name": "stdout",
     "output_type": "stream",
     "text": [
      "Declared votes {'sunak': 144, 'mordaunt': 24}\n",
      "Remaining MPS 189\n"
     ]
    },
    {
     "data": {
      "text/plain": [
       "{'sunak': 988, 'mordaunt': 12, 'other': 0}"
      ]
     },
     "execution_count": 8,
     "metadata": {},
     "output_type": "execute_result"
    }
   ],
   "source": [
    "import seaborn\n",
    "import json\n",
    "import random\n",
    "\n",
    "import sys\n",
    "sys.path\n",
    "sys.path.append('/home/helge/code/back_of_the_envelope')\n",
    "\n",
    "from data.fetcher import Fetcher\n",
    "\n",
    "url = 'https://www.theguardian.com/politics/2022/oct/21/boris-johnson-penny-mordaunt-rishi-sunak-who-backing-next-tory-leader'\n",
    "fetcher = Fetcher()\n",
    "fetcher.add_data('G1', url)\n",
    "main = fetcher.get_main()\n",
    "\n",
    "blocks = str([y for y in [x for x in main.find_all('div') if 'id' in x.attrs] if y.attrs['id'] == \"maincontent\"][0]).split('<h2')[1:]\n",
    "\n",
    "result = {}\n",
    "\n",
    "for block in blocks:\n",
    "    nn = block.split('</h2>')[0]\n",
    "    # if 'Johnson' in nn:\n",
    "        # result[\"johnson\"] = len(block.split('<br'))\n",
    "    if 'Sunak' in nn:\n",
    "        result[\"sunak\"] = len(block.split('<br'))\n",
    "    elif 'Mordaunt' in nn:\n",
    "        result[\"mordaunt\"] = len(block.split('<br'))\n",
    "\n",
    "print(\"Declared votes\", result)\n",
    "\n",
    "mp_votes_base = result\n",
    "mp_votes_base['other'] = 0\n",
    "\n",
    "\n",
    "total_mp_tories = 357\n",
    "\n",
    "left_over_mp = total_mp_tories - sum(mp_votes_base.values())\n",
    "print(f\"Remaining MPS {left_over_mp}\")\n",
    "\n",
    "def random_vote():\n",
    "    votes = dict(mp_votes_base)\n",
    "    for _ in range(left_over_mp):\n",
    "        possible_choices = [key for key, value in votes.items() if key != \"johnson\"]\n",
    "        vote  = random.choice(possible_choices)\n",
    "        votes[vote] += 1\n",
    "    return votes\n",
    "\n",
    "chances = {name: 0 for name in mp_votes_base.keys()}\n",
    "\n",
    "for _ in range(1000):\n",
    "    vote = random_vote()\n",
    "    choices = [key for key, value in vote.items() if value >= 100]\n",
    "    next_pm = random.choice(choices)\n",
    "    chances[next_pm] += 1\n",
    "\n",
    "chances"
   ]
  }
 ],
 "metadata": {
  "kernelspec": {
   "display_name": "Python 3 (ipykernel)",
   "language": "python",
   "name": "python3"
  },
  "language_info": {
   "codemirror_mode": {
    "name": "ipython",
    "version": 3
   },
   "file_extension": ".py",
   "mimetype": "text/x-python",
   "name": "python",
   "nbconvert_exporter": "python",
   "pygments_lexer": "ipython3",
   "version": "3.10.6"
  },
  "vscode": {
   "interpreter": {
    "hash": "2b3a957d5c71eb897eecb845f2b11c7856657a9e8814c9a199ed3db0a6ec2c41"
   }
  }
 },
 "nbformat": 4,
 "nbformat_minor": 2
}
