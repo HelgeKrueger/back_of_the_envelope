{
 "cells": [
  {
   "cell_type": "code",
   "execution_count": 2,
   "metadata": {},
   "outputs": [
    {
     "name": "stdout",
     "output_type": "stream",
     "text": [
      "Berlin\n",
      "{'Chance to be in parliament': [{'name': 'CDU', 'percentage': 100.0}, {'name': 'SPD', 'percentage': 100.0}, {'name': 'GRÜNE', 'percentage': 100.0}, {'name': 'LINKE', 'percentage': 96.9}, {'name': 'AfD', 'percentage': 90.3}, {'name': 'FDP', 'percentage': 63.3}], 'Probability of Government': [{'name': 'SPD GRÜNE LINKE', 'percentage': 23.2}, {'name': 'GRÜNE SPD LINKE', 'percentage': 18.6}, {'name': 'CDU GRÜNE', 'percentage': 10.1}, {'name': 'SPD GRÜNE', 'percentage': 9.4}, {'name': 'GRÜNE SPD', 'percentage': 7.9}, {'name': 'GRÜNE CDU', 'percentage': 6.8}, {'name': 'SPD CDU', 'percentage': 2.1}]}\n",
      "\n",
      "Bremen\n",
      "{'Chance to be in parliament': [{'name': 'CDU', 'percentage': 100.0}, {'name': 'SPD', 'percentage': 100.0}, {'name': 'GRÜNE', 'percentage': 100.0}, {'name': 'LINKE', 'percentage': 73.3}, {'name': 'FDP', 'percentage': 48.5}, {'name': 'AfD', 'percentage': 48.0}], 'Probability of Government': [{'name': 'SPD GRÜNE', 'percentage': 45.6}, {'name': 'CDU GRÜNE', 'percentage': 11.3}, {'name': 'GRÜNE CDU', 'percentage': 9.9}, {'name': 'SPD GRÜNE LINKE', 'percentage': 9.6}, {'name': 'SPD LINKE', 'percentage': 6.5}, {'name': 'SPD CDU', 'percentage': 6.1}, {'name': 'GRÜNE SPD', 'percentage': 4.9}, {'name': 'SPD FDP', 'percentage': 2.0}]}\n",
      "\n",
      "Hessen\n",
      "{'Chance to be in parliament': [{'name': 'CDU', 'percentage': 100.0}, {'name': 'SPD', 'percentage': 100.0}, {'name': 'GRÜNE', 'percentage': 100.0}, {'name': 'AfD', 'percentage': 96.2}, {'name': 'FDP', 'percentage': 50.8}, {'name': 'LINKE', 'percentage': 18.3}], 'Probability of Government': [{'name': 'CDU GRÜNE', 'percentage': 39.9}, {'name': 'SPD GRÜNE', 'percentage': 14.5}, {'name': 'GRÜNE SPD', 'percentage': 14.3}, {'name': 'GRÜNE CDU', 'percentage': 10.6}, {'name': 'SPD GRÜNE LINKE', 'percentage': 3.9}, {'name': 'SPD CDU', 'percentage': 3.6}, {'name': 'GRÜNE SPD LINKE', 'percentage': 2.1}]}\n",
      "\n",
      "Bayern\n",
      "{'Chance to be in parliament': [{'name': 'CSU', 'percentage': 100.0}, {'name': 'GRÜNE', 'percentage': 99.9}, {'name': 'FW', 'percentage': 92.6}, {'name': 'SPD', 'percentage': 87.6}, {'name': 'AfD', 'percentage': 72.3}, {'name': 'FDP', 'percentage': 20.1}, {'name': 'LINKE', 'percentage': 12.6}], 'Probability of Government': [{'name': 'CSU FW', 'percentage': 43.3}, {'name': 'CSU', 'percentage': 28.0}, {'name': 'CSU GRÜNE', 'percentage': 19.5}, {'name': 'CSU FDP', 'percentage': 6.0}]}\n",
      "\n"
     ]
    }
   ],
   "source": [
    "import sys\n",
    "sys.path\n",
    "sys.path.append('/home/helge/code/back_of_the_envelope')\n",
    "\n",
    "import pandas as pd\n",
    "import random\n",
    "import json\n",
    "\n",
    "from forecasters import get_forecaster, forecast_election\n",
    "\n",
    "forecast = {}\n",
    "\n",
    "for region in [ \"Berlin\", \"Bremen\", \"Hessen\", \"Bayern\"]:\n",
    "    fc = get_forecaster(region)\n",
    "    forecast[region] = forecast_election(fc)\n",
    "    print(region)\n",
    "    print(forecast[region])\n",
    "    print()\n",
    "\n",
    "with open(\"election_data_20221117.json\", \"w\") as f:\n",
    "    json.dump(forecast, f)\n"
   ]
  },
  {
   "cell_type": "code",
   "execution_count": null,
   "metadata": {},
   "outputs": [],
   "source": [
    "import sys\n",
    "sys.path\n",
    "sys.path.append('/home/helge/code/back_of_the_envelope')\n",
    "\n",
    "import pandas as pd\n",
    "import random\n",
    "import json\n",
    "\n",
    "from forecasters import get_forecaster, forecast_election\n",
    "\n",
    "forecast = {}\n",
    "\n",
    "for region in [ \"Berlin\"]: # , \"Bremen\", \"Hessen\", \"Bayern\"]:\n",
    "    fc = get_forecaster(region)\n",
    "    forecast[region] = forecast_election(fc)\n",
    "    print(region)\n",
    "    print(forecast[region])\n",
    "    print()\n",
    "\n",
    "with open(\"election_data_20221117.json\", \"w\") as f:\n",
    "    json.dump(forecast, f)\n"
   ]
  },
  {
   "cell_type": "code",
   "execution_count": 3,
   "metadata": {},
   "outputs": [],
   "source": [
    "import sys\n",
    "sys.path\n",
    "sys.path.append('/home/helge/code/back_of_the_envelope')\n",
    "\n",
    "import pandas as pd\n",
    "import random\n",
    "import json\n",
    "\n",
    "from forecasters import get_forecaster, forecast_election\n",
    "from data.wahlrecht import parse_date, parse_poll_value\n",
    "from datetime import timedelta\n",
    "\n",
    "\n",
    "import matplotlib.pyplot as plt\n",
    "import numpy as np\n",
    "import matplotlib.mlab as mlab\n",
    "from scipy.stats import norm\n"
   ]
  },
  {
   "cell_type": "code",
   "execution_count": 52,
   "metadata": {},
   "outputs": [
    {
     "name": "stdout",
     "output_type": "stream",
     "text": [
      "-0.10163043478260869\n",
      "2.2367148906419616\n"
     ]
    },
    {
     "data": {
      "image/png": "[encoded data removed]",
      "text/plain": [
       "<Figure size 640x480 with 1 Axes>"
      ]
     },
     "metadata": {},
     "output_type": "display_data"
    }
   ],
   "source": [
    "collect_points = {\n",
    "    \"result\": [],\n",
    "    \"poll\": []\n",
    "}\n",
    "\n",
    "bayern_data = pd.read_html('https://www.wahlrecht.de/umfragen/landtage/bayern.htm')\n",
    "bw_data = pd.read_html('https://www.wahlrecht.de/umfragen/landtage/baden-wuerttemberg.htm')\n",
    "he_data = pd.read_html('https://www.wahlrecht.de/umfragen/landtage/hessen.htm')\n",
    "ni_data = pd.read_html('https://www.wahlrecht.de/umfragen/landtage/niedersachsen.htm')\n",
    "nrw_data = pd.read_html('https://www.wahlrecht.de/umfragen/landtage/nrw.htm')\n",
    "sh_data = pd.read_html('https://www.wahlrecht.de/umfragen/landtage/schleswig-holstein.htm')\n",
    "\n",
    "dfs = [bayern_data[x] for x in [1,2,3]]\n",
    "dfs += [bw_data[x] for x in [1,2]]\n",
    "dfs += [he_data[x] for x in [1,2,3]]\n",
    "dfs += [ni_data[x] for x in [1,2,3]]\n",
    "dfs += [nrw_data[x] for x in [1,2,3]]\n",
    "dfs += [sh_data[x] for x in [1,2,3]]\n",
    "\n",
    "for df in dfs:\n",
    "    row = df.iloc[0]\n",
    "\n",
    "    possible_parties = ['CDU', 'CSU', 'SPD', 'GRÜNE', 'FDP', 'LINKE', 'FW', 'PIRATEN', 'AfD']\n",
    "\n",
    "\n",
    "    last_election = None\n",
    "\n",
    "    for idx, row in df.iterrows():\n",
    "        institut = row['Institut']\n",
    "        if institut.startswith('Landtags'):\n",
    "            last_election = parse_date(institut.split(' ')[2])\n",
    "            election_result = row\n",
    "            # print(row)\n",
    "\n",
    "        datum = parse_date(row['Datum'])\n",
    "\n",
    "        if last_election and datum:\n",
    "            if (last_election - datum) > timedelta(days=0):\n",
    "                for p in possible_parties:\n",
    "                    if p in election_result and p in row:\n",
    "                        rv = parse_poll_value(election_result[p])\n",
    "                        pv = parse_poll_value(row[p])\n",
    "\n",
    "                        if rv and pv:\n",
    "                            collect_points[\"result\"].append(rv)\n",
    "                            collect_points[\"poll\"].append(pv)\n",
    "                \n",
    "                last_election = None\n",
    "\n",
    "\n",
    "df2 = pd.DataFrame(collect_points)\n",
    "df2['diff'] = df2.result - df2.poll\n",
    "                \n",
    "print(df2['diff'].mean())\n",
    "print(df2['diff'].std())\n",
    "\n",
    "arr = df2['diff']\n",
    "\n",
    "plt.figure(1)\n",
    "plt.hist(arr, density=True, bins=20)\n",
    "plt.xlim((min(arr), max(arr)))\n",
    "\n",
    "mean = np.mean(arr)\n",
    "variance = np.var(arr)\n",
    "sigma = np.sqrt(variance)\n",
    "x = np.linspace(min(arr), max(arr), 100)\n",
    "plt.plot(x, norm.pdf(x, mean, sigma))\n",
    "\n",
    "plt.show()"
   ]
  },
  {
   "cell_type": "code",
   "execution_count": 37,
   "metadata": {},
   "outputs": [
    {
     "data": {
      "text/plain": [
       "<scipy.stats._distn_infrastructure.rv_continuous_frozen at 0x7f0033bfcbe0>"
      ]
     },
     "execution_count": 37,
     "metadata": {},
     "output_type": "execute_result"
    }
   ],
   "source": [
    "norm(x)"
   ]
  },
  {
   "cell_type": "code",
   "execution_count": 5,
   "metadata": {},
   "outputs": [
    {
     "name": "stdout",
     "output_type": "stream",
     "text": [
      "CSU has majority\n",
      "CSU has majority\n",
      "CSU has majority\n",
      "{'CSU': 1000, 'SPD': 1000, 'GRÜNE': 1000, 'FDP': 863, 'LINKE': 0, 'FW': 1000, 'AfD': 1000, 'Sonstige': 0}\n",
      "{'CSU_SPD': 845, 'CSU_GRÜNE': 1000, 'CSU_FW': 708, 'CSU_AfD': 847, 'CSU_FDP': 199}\n"
     ]
    }
   ],
   "source": [
    "from itertools import combinations\n",
    "\n",
    "in_parliament = {p: 0 for p in parties}\n",
    "majorities = {}\n",
    "\n",
    "number_red_green = 0\n",
    "\n",
    "for x in bayern_forecaster.predict(1000):\n",
    "    for p in x.keys():\n",
    "        in_parliament[p] += 1\n",
    "    for p, v in x.items():\n",
    "        if v > 50:\n",
    "            print(f\"{p} has majority\")\n",
    "\n",
    "    pip = list(x.keys())\n",
    "\n",
    "    for a, b in combinations(pip, 2):\n",
    "        if x[a] + x[b] > 50:\n",
    "            if f\"{a}_{b}\" in majorities:\n",
    "                majorities[f\"{a}_{b}\"] += 1\n",
    "            else:\n",
    "                majorities[f\"{a}_{b}\"] = 1\n",
    "\n",
    "print(in_parliament)\n",
    "print(majorities)"
   ]
  },
  {
   "cell_type": "code",
   "execution_count": 6,
   "metadata": {},
   "outputs": [
    {
     "data": {
      "text/plain": [
       "2.1862270173585703"
      ]
     },
     "execution_count": 6,
     "metadata": {},
     "output_type": "execute_result"
    }
   ],
   "source": [
    "import sys\n",
    "sys.path\n",
    "sys.path.append('/home/helge/code/back_of_the_envelope')\n",
    "\n",
    "\n",
    "from forecasters import get_forecaster\n",
    "import numpy as np\n",
    "\n",
    "fc = get_forecaster(\"Hessen\")\n",
    "diffs = []\n",
    "\n",
    "for _ in range(1000):\n",
    "    r = fc.election_result()\n",
    "    ps = list(r.keys())[:7]\n",
    "    diffs += [r[p] - fc.polling_data[p] for p in ps]\n",
    "np.std(diffs)"
   ]
  }
 ],
 "metadata": {
  "kernelspec": {
   "display_name": "Python 3 (ipykernel)",
   "language": "python",
   "name": "python3"
  },
  "language_info": {
   "codemirror_mode": {
    "name": "ipython",
    "version": 3
   },
   "file_extension": ".py",
   "mimetype": "text/x-python",
   "name": "python",
   "nbconvert_exporter": "python",
   "pygments_lexer": "ipython3",
   "version": "3.10.6"
  },
  "vscode": {
   "interpreter": {
    "hash": "2b3a957d5c71eb897eecb845f2b11c7856657a9e8814c9a199ed3db0a6ec2c41"
   }
  }
 },
 "nbformat": 4,
 "nbformat_minor": 2
}
