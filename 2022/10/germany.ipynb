{
 "cells": [
  {
   "cell_type": "code",
   "execution_count": 2,
   "metadata": {},
   "outputs": [
    {
     "name": "stdout",
     "output_type": "stream",
     "text": [
      "Hessen\n",
      "{'Chance to be in parliament': [{'name': 'CDU', 'percentage': 100.0}, {'name': 'SPD', 'percentage': 100.0}, {'name': 'GRÜNE', 'percentage': 100.0}, {'name': 'AfD', 'percentage': 100.0}, {'name': 'FDP', 'percentage': 83.5}], 'Probability of Government': [{'name': 'CDU GRÜNE', 'percentage': 80.5}, {'name': 'SPD GRÜNE', 'percentage': 11.8}, {'name': 'GRÜNE CDU', 'percentage': 5.7}]}\n",
      "\n",
      "Bayern\n",
      "{'Chance to be in parliament': [{'name': 'CSU', 'percentage': 100.0}, {'name': 'SPD', 'percentage': 100.0}, {'name': 'GRÜNE', 'percentage': 100.0}, {'name': 'FW', 'percentage': 100.0}, {'name': 'AfD', 'percentage': 100.0}, {'name': 'FDP', 'percentage': 87.4}], 'Probability of Government': [{'name': 'CSU FW', 'percentage': 51.0}, {'name': 'CSU GRÜNE', 'percentage': 37.6}, {'name': 'CSU FDP', 'percentage': 8.7}]}\n",
      "\n",
      "Bremen\n",
      "{'Chance to be in parliament': [{'name': 'CDU', 'percentage': 100.0}, {'name': 'SPD', 'percentage': 100.0}, {'name': 'GRÜNE', 'percentage': 100.0}, {'name': 'LINKE', 'percentage': 99.9}, {'name': 'AfD', 'percentage': 85.1}, {'name': 'FDP', 'percentage': 83.5}], 'Probability of Government': [{'name': 'SPD GRÜNE', 'percentage': 82.2}, {'name': 'SPD CDU', 'percentage': 10.9}, {'name': 'CDU GRÜNE', 'percentage': 4.0}]}\n",
      "\n"
     ]
    }
   ],
   "source": [
    "import sys\n",
    "sys.path\n",
    "sys.path.append('/home/helge/code/back_of_the_envelope')\n",
    "\n",
    "import pandas as pd\n",
    "import random\n",
    "import json\n",
    "\n",
    "from forecasters import get_forecaster, forecast_election\n",
    "\n",
    "forecast = {}\n",
    "\n",
    "for region in [\"Hessen\", \"Bayern\", \"Bremen\"]:\n",
    "    fc = get_forecaster(region)\n",
    "    forecast[region] = forecast_election(fc)\n",
    "    print(region)\n",
    "    print(forecast[region])\n",
    "    print()\n",
    "\n",
    "with open(\"election_data_20221026.json\", \"w\") as f:\n",
    "    json.dump(forecast, f)\n"
   ]
  },
  {
   "cell_type": "code",
   "execution_count": 2,
   "metadata": {},
   "outputs": [
    {
     "data": {
      "text/plain": [
       "{'in_parliament': [{'name': 'CDU', 'percentage': 100.0},\n",
       "  {'name': 'SPD', 'percentage': 100.0},\n",
       "  {'name': 'GRÜNE', 'percentage': 100.0},\n",
       "  {'name': 'LINKE', 'percentage': 99.9},\n",
       "  {'name': 'AfD', 'percentage': 85.5},\n",
       "  {'name': 'FDP', 'percentage': 83.8}],\n",
       " 'government': [{'name': 'SPD GRÜNE', 'percentage': 82.0},\n",
       "  {'name': 'SPD CDU', 'percentage': 10.2},\n",
       "  {'name': 'CDU GRÜNE', 'percentage': 4.3},\n",
       "  {'name': 'GRÜNE CDU', 'percentage': 2.3}]}"
      ]
     },
     "execution_count": 2,
     "metadata": {},
     "output_type": "execute_result"
    }
   ],
   "source": [
    "from forecasters.election import ElectionForecaster\n",
    "from forecasters import forecast_election\n",
    "\n",
    "bremen_forecaster = ElectionForecaster(polling_data)\n",
    "bremen_forecaster.sample()\n",
    "\n",
    "forecast_election(bremen_forecaster)"
   ]
  },
  {
   "cell_type": "code",
   "execution_count": 4,
   "metadata": {},
   "outputs": [
    {
     "name": "stdout",
     "output_type": "stream",
     "text": [
      "CSU has majority\n",
      "CSU has majority\n",
      "CSU has majority\n",
      "{'CSU': 1000, 'SPD': 1000, 'GRÜNE': 1000, 'FDP': 853, 'LINKE': 0, 'FW': 1000, 'AfD': 1000, 'Sonstige': 0}\n",
      "0\n"
     ]
    }
   ],
   "source": [
    "df = pd.read_html('https://www.wahlrecht.de/umfragen/landtage/bayern.htm')[1]\n",
    "row = df.iloc[0]\n",
    "parties = ['CSU',\n",
    "       'SPD', 'GRÜNE', 'FDP', 'LINKE', 'FW', 'AfD', 'Sonstige']\n",
    "polling_data = {\n",
    "    p: int(row[p].split(\" \")[0])\n",
    "       for p in parties\n",
    "}\n",
    "bayern_forecaster = ElectionForecaster(polling_data)\n",
    "\n",
    "in_parliament = {p: 0 for p in parties}\n",
    "\n",
    "number_red_green = 0\n",
    "\n",
    "for x in bayern_forecaster.predict(1000):\n",
    "    for p in x.keys():\n",
    "        in_parliament[p] += 1\n",
    "    for p, v in x.items():\n",
    "        if v > 50:\n",
    "            print(f\"{p} has majority\")\n",
    "\n",
    "    if x[\"SPD\"] + x[\"GRÜNE\"] > 50:\n",
    "        number_red_green += 1\n",
    "\n",
    "print(in_parliament)\n",
    "print(number_red_green)"
   ]
  },
  {
   "cell_type": "code",
   "execution_count": 5,
   "metadata": {},
   "outputs": [
    {
     "name": "stdout",
     "output_type": "stream",
     "text": [
      "CSU has majority\n",
      "CSU has majority\n",
      "CSU has majority\n",
      "{'CSU': 1000, 'SPD': 1000, 'GRÜNE': 1000, 'FDP': 863, 'LINKE': 0, 'FW': 1000, 'AfD': 1000, 'Sonstige': 0}\n",
      "{'CSU_SPD': 845, 'CSU_GRÜNE': 1000, 'CSU_FW': 708, 'CSU_AfD': 847, 'CSU_FDP': 199}\n"
     ]
    }
   ],
   "source": [
    "from itertools import combinations\n",
    "\n",
    "in_parliament = {p: 0 for p in parties}\n",
    "majorities = {}\n",
    "\n",
    "number_red_green = 0\n",
    "\n",
    "for x in bayern_forecaster.predict(1000):\n",
    "    for p in x.keys():\n",
    "        in_parliament[p] += 1\n",
    "    for p, v in x.items():\n",
    "        if v > 50:\n",
    "            print(f\"{p} has majority\")\n",
    "\n",
    "    pip = list(x.keys())\n",
    "\n",
    "    for a, b in combinations(pip, 2):\n",
    "        if x[a] + x[b] > 50:\n",
    "            if f\"{a}_{b}\" in majorities:\n",
    "                majorities[f\"{a}_{b}\"] += 1\n",
    "            else:\n",
    "                majorities[f\"{a}_{b}\"] = 1\n",
    "\n",
    "print(in_parliament)\n",
    "print(majorities)"
   ]
  }
 ],
 "metadata": {
  "kernelspec": {
   "display_name": "Python 3 (ipykernel)",
   "language": "python",
   "name": "python3"
  },
  "language_info": {
   "codemirror_mode": {
    "name": "ipython",
    "version": 3
   },
   "file_extension": ".py",
   "mimetype": "text/x-python",
   "name": "python",
   "nbconvert_exporter": "python",
   "pygments_lexer": "ipython3",
   "version": "3.10.6"
  },
  "vscode": {
   "interpreter": {
    "hash": "2b3a957d5c71eb897eecb845f2b11c7856657a9e8814c9a199ed3db0a6ec2c41"
   }
  }
 },
 "nbformat": 4,
 "nbformat_minor": 2
}
