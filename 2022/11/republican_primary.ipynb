{
 "cells": [
  {
   "cell_type": "code",
   "execution_count": 4,
   "metadata": {},
   "outputs": [],
   "source": [
    "import sys\n",
    "sys.path\n",
    "sys.path.append('/home/helge/code/back_of_the_envelope')\n",
    "\n",
    "import random\n",
    "import numpy as np"
   ]
  },
  {
   "cell_type": "code",
   "execution_count": 39,
   "metadata": {},
   "outputs": [
    {
     "data": {
      "text/plain": [
       "0.53"
      ]
     },
     "execution_count": 39,
     "metadata": {},
     "output_type": "execute_result"
    }
   ],
   "source": [
    "from forecasters.statistics import choose_from_weights\n",
    "\n",
    "\n",
    "def is_trump_a_candidate():\n",
    "    def is_convicted():\n",
    "        return random.random() > 0.5\n",
    "\n",
    "    for _ in [\"procecuted in georgia\", \"procecuted federally\"]:\n",
    "        if random.random() > 0.5: # means procecuted\n",
    "            if is_convicted():\n",
    "                return False\n",
    "            \n",
    "    return True\n",
    "\n",
    "def is_candidate(name):\n",
    "    if name == \"Trump\":\n",
    "        return is_trump_a_candidate()\n",
    "\n",
    "    if name == \"deSantis\":\n",
    "        return True\n",
    "\n",
    "    return random.random() > 0.5\n",
    "\n",
    "def get_weight(name):\n",
    "    if name in [\"Trump\", \"deSantis\"]:\n",
    "        return 10\n",
    "\n",
    "    if name in [\"Haley\", \"Pompeo\", \"Pence\", \"Christie\", \"Hogan\"]:\n",
    "        return 3\n",
    "\n",
    "    return 1\n",
    "\n",
    "def possible_candidates():\n",
    "    return [\"Trump\", \"deSantis\"] + [\"Haley\", \"Pompeo\", \"Pence\", \"Christie\", \"Hogan\"] + [\"Other\"]\n",
    "\n",
    "np.mean([is_trump_a_candidate() for _ in range(100)])"
   ]
  },
  {
   "cell_type": "code",
   "execution_count": 40,
   "metadata": {},
   "outputs": [
    {
     "name": "stdout",
     "output_type": "stream",
     "text": [
      "defaultdict(<class 'int'>, {'deSantis': 44.88999999999964, 'Other': 34.62000000000168, 'Trump': 20.490000000000403})\n"
     ]
    }
   ],
   "source": [
    "def nominees(number):\n",
    "    for _ in range(number):\n",
    "        candidates = {}\n",
    "        for c in possible_candidates():\n",
    "            if is_candidate(c):\n",
    "                candidates[c] = get_weight(c)\n",
    "\n",
    "        yield choose_from_weights(candidates)\n",
    "\n",
    "from collections import defaultdict\n",
    "\n",
    "chance_for_nomination = defaultdict(int)\n",
    "\n",
    "runs = 10000\n",
    "dp = 1.0 / runs * 100\n",
    "\n",
    "for n in nominees(runs):\n",
    "    if n in [\"Trump\", \"deSantis\"]:\n",
    "        chance_for_nomination[n] += dp\n",
    "    else:\n",
    "        chance_for_nomination[\"Other\"] += dp\n",
    "\n",
    "\n",
    "print(chance_for_nomination)"
   ]
  }
 ],
 "metadata": {
  "kernelspec": {
   "display_name": "Python 3.10.6 ('back_of_the_envelope-qbOw2DZc')",
   "language": "python",
   "name": "python3"
  },
  "language_info": {
   "codemirror_mode": {
    "name": "ipython",
    "version": 3
   },
   "file_extension": ".py",
   "mimetype": "text/x-python",
   "name": "python",
   "nbconvert_exporter": "python",
   "pygments_lexer": "ipython3",
   "version": "3.10.6"
  },
  "orig_nbformat": 4,
  "vscode": {
   "interpreter": {
    "hash": "2b3a957d5c71eb897eecb845f2b11c7856657a9e8814c9a199ed3db0a6ec2c41"
   }
  }
 },
 "nbformat": 4,
 "nbformat_minor": 2
}
