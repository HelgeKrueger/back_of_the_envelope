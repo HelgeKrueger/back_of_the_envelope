{
 "cells": [
  {
   "cell_type": "code",
   "execution_count": 2,
   "metadata": {},
   "outputs": [],
   "source": [
    "from scipy.stats import beta\n",
    "import pandas as pd\n",
    "import lxml"
   ]
  },
  {
   "cell_type": "code",
   "execution_count": 3,
   "metadata": {},
   "outputs": [],
   "source": [
    "df = pd.read_html('https://www.wahlrecht.de/umfragen/landtage/bremen.htm')"
   ]
  },
  {
   "cell_type": "code",
   "execution_count": 5,
   "metadata": {},
   "outputs": [
    {
     "data": {
      "text/plain": [
       "CDU         22 %\n",
       "SPD         30 %\n",
       "GRÜNE       21 %\n",
       "FDP          6 %\n",
       "LINKE        8 %\n",
       "AfD          6 %\n",
       "Sonstige     7 %\n",
       "Name: 0, dtype: object"
      ]
     },
     "execution_count": 5,
     "metadata": {},
     "output_type": "execute_result"
    }
   ],
   "source": [
    "df[1][['CDU', 'SPD', 'GRÜNE', 'FDP', 'LINKE',  'AfD',  'Sonstige']].iloc[0]"
   ]
  },
  {
   "cell_type": "code",
   "execution_count": 7,
   "metadata": {},
   "outputs": [],
   "source": [
    "def make_dist(mean, std):\n",
    "    a = mean * ( mean**2/std**2 * (1 /mean - 1) -1)\n",
    "    b = a * (1/mean - 1)\n",
    "\n",
    "    return beta(a, b)"
   ]
  },
  {
   "cell_type": "code",
   "execution_count": 11,
   "metadata": {},
   "outputs": [
    {
     "data": {
      "text/plain": [
       "{'cdu': 0.23346191662134225,\n",
       " 'spd': 0.29581385735620763,\n",
       " 'gruen': 0.2156240167483099,\n",
       " 'fdp': 0.07713723598539098,\n",
       " 'linke': 0.09273472066497672,\n",
       " 'afd': 0.08522825262377251}"
      ]
     },
     "execution_count": 11,
     "metadata": {},
     "output_type": "execute_result"
    }
   ],
   "source": [
    "cdu = make_dist(0.22, 0.02)\n",
    "spd = make_dist(0.30, 0.02)\n",
    "gruen = make_dist(0.21, 0.02)\n",
    "fdp = make_dist(0.06, 0.02)\n",
    "linke = make_dist(0.07, 0.02)\n",
    "afd = make_dist(0.06, 0.02)\n",
    "\n",
    "parties = {\n",
    "    'cdu': cdu, \n",
    "    'spd': spd, \n",
    "    'gruen': gruen, \n",
    "    'fdp': fdp, \n",
    "    'linke': linke, \n",
    "    'afd': afd\n",
    "}\n",
    "\n",
    "def get_prediction():\n",
    "    result = {}\n",
    "    total = 0\n",
    "    for name, p in parties.items():\n",
    "        result[name] = p.rvs(1)[0]\n",
    "        total += result[name]\n",
    "    result = {name: p / total for name, p in result.items()}\n",
    "    return result\n",
    "\n",
    "def predictions():\n",
    "    for _ in range(1000):\n",
    "        yield get_prediction()\n",
    "\n",
    "get_prediction()"
   ]
  },
  {
   "cell_type": "code",
   "execution_count": 14,
   "metadata": {},
   "outputs": [
    {
     "data": {
      "text/plain": [
       "Counter({'spd_gruen': 978, 'spd_cdu': 13, 'spd_gruen_fdp': 9})"
      ]
     },
     "execution_count": 14,
     "metadata": {},
     "output_type": "execute_result"
    }
   ],
   "source": [
    "import random\n",
    "\n",
    "def is_possible(prediction, coalition):\n",
    "    if sum(prediction[c] for c in coalition) > 0.5:\n",
    "        return True\n",
    "\n",
    "    return False\n",
    "\n",
    "def choose_result(result):\n",
    "    if \"spd_gruen\" in result:\n",
    "        return \"spd_gruen\"\n",
    "\n",
    "    if \"spd_gruen_fdp\" in result and \"spd_cdu\" in result:\n",
    "        if random.random() > 0.5:\n",
    "            return \"spd_gruen_fdp\"\n",
    "        else:\n",
    "            return \"spd_cdu\"\n",
    "\n",
    "    return result[0]\n",
    "\n",
    "coalitions = [\n",
    "    [\"spd\", \"gruen\"],\n",
    "    [\"spd\", \"cdu\"],\n",
    "    [\"spd\", \"gruen\", \"fdp\"],\n",
    "    [\"cdu\", \"afd\"]\n",
    "]\n",
    "\n",
    "results = []\n",
    "\n",
    "for prediction in predictions():\n",
    "    results.append([ \"_\".join(c) for c in coalitions if is_possible(prediction, c)])\n",
    "\n",
    "from collections import Counter\n",
    "\n",
    "Counter([choose_result(r) for r in results])"
   ]
  },
  {
   "cell_type": "code",
   "execution_count": 13,
   "metadata": {},
   "outputs": [
    {
     "data": {
      "text/plain": [
       "{'cdu': 1000, 'spd': 1000, 'gruen': 1000, 'fdp': 752, 'linke': 911, 'afd': 755}"
      ]
     },
     "execution_count": 13,
     "metadata": {},
     "output_type": "execute_result"
    }
   ],
   "source": [
    "party_names = parties.keys()\n",
    "passed_5 = {name: 0 for name in party_names}\n",
    "\n",
    "for prediction in predictions():\n",
    "    for name in party_names:\n",
    "        if prediction[name] > 0.05:\n",
    "            passed_5[name] += 1\n",
    "    \n",
    "passed_5"
   ]
  },
  {
   "cell_type": "markdown",
   "metadata": {},
   "source": [
    "## Bayern"
   ]
  },
  {
   "cell_type": "code",
   "execution_count": 16,
   "metadata": {},
   "outputs": [
    {
     "data": {
      "text/html": [
       "<div>\n",
       "<style scoped>\n",
       "    .dataframe tbody tr th:only-of-type {\n",
       "        vertical-align: middle;\n",
       "    }\n",
       "\n",
       "    .dataframe tbody tr th {\n",
       "        vertical-align: top;\n",
       "    }\n",
       "\n",
       "    .dataframe thead th {\n",
       "        text-align: right;\n",
       "    }\n",
       "</style>\n",
       "<table border=\"1\" class=\"dataframe\">\n",
       "  <thead>\n",
       "    <tr style=\"text-align: right;\">\n",
       "      <th></th>\n",
       "      <th>Institut</th>\n",
       "      <th>Auftraggeber</th>\n",
       "      <th>Befragte</th>\n",
       "      <th>Datum</th>\n",
       "      <th>Unnamed: 4</th>\n",
       "      <th>CSU</th>\n",
       "      <th>SPD</th>\n",
       "      <th>GRÜNE</th>\n",
       "      <th>FDP</th>\n",
       "      <th>LINKE</th>\n",
       "      <th>FW</th>\n",
       "      <th>AfD</th>\n",
       "      <th>Sonstige</th>\n",
       "    </tr>\n",
       "  </thead>\n",
       "  <tbody>\n",
       "    <tr>\n",
       "      <th>0</th>\n",
       "      <td>GMS</td>\n",
       "      <td>Sat.1 Bayern</td>\n",
       "      <td>T • 1.004 14.09.–20.09.</td>\n",
       "      <td>21.09.2022</td>\n",
       "      <td>NaN</td>\n",
       "      <td>40 %</td>\n",
       "      <td>8 %</td>\n",
       "      <td>18 %</td>\n",
       "      <td>6 %</td>\n",
       "      <td>2 %</td>\n",
       "      <td>10 %</td>\n",
       "      <td>11 %</td>\n",
       "      <td>BP 1 % Sonst. 4 %</td>\n",
       "    </tr>\n",
       "    <tr>\n",
       "      <th>1</th>\n",
       "      <td>INSA</td>\n",
       "      <td>BILD</td>\n",
       "      <td>O • 1.000 20.06.–27.06.</td>\n",
       "      <td>29.06.2022</td>\n",
       "      <td>NaN</td>\n",
       "      <td>37 %</td>\n",
       "      <td>10 %</td>\n",
       "      <td>20 %</td>\n",
       "      <td>7 %</td>\n",
       "      <td>2 %</td>\n",
       "      <td>10 %</td>\n",
       "      <td>9 %</td>\n",
       "      <td>5 %</td>\n",
       "    </tr>\n",
       "    <tr>\n",
       "      <th>2</th>\n",
       "      <td>GMS</td>\n",
       "      <td>Sat.1 Bayern</td>\n",
       "      <td>T • 1.002 15.06.–20.06.</td>\n",
       "      <td>20.06.2022</td>\n",
       "      <td>NaN</td>\n",
       "      <td>40 %</td>\n",
       "      <td>9 %</td>\n",
       "      <td>20 %</td>\n",
       "      <td>5 %</td>\n",
       "      <td>2 %</td>\n",
       "      <td>9 %</td>\n",
       "      <td>8 %</td>\n",
       "      <td>BP 1 % Sonst. 6 %</td>\n",
       "    </tr>\n",
       "    <tr>\n",
       "      <th>3</th>\n",
       "      <td>Forsa</td>\n",
       "      <td>RTL/n-tv</td>\n",
       "      <td>T • 1.049 23.05.–03.06.</td>\n",
       "      <td>07.06.2022</td>\n",
       "      <td>NaN</td>\n",
       "      <td>40 %</td>\n",
       "      <td>9 %</td>\n",
       "      <td>20 %</td>\n",
       "      <td>6 %</td>\n",
       "      <td>1 %</td>\n",
       "      <td>10 %</td>\n",
       "      <td>7 %</td>\n",
       "      <td>7 %</td>\n",
       "    </tr>\n",
       "    <tr>\n",
       "      <th>4</th>\n",
       "      <td>Forsa</td>\n",
       "      <td>VNP</td>\n",
       "      <td>T • 1.235 27.04.–13.05.</td>\n",
       "      <td>24.05.2022</td>\n",
       "      <td>NaN</td>\n",
       "      <td>39 %</td>\n",
       "      <td>10 %</td>\n",
       "      <td>20 %</td>\n",
       "      <td>5 %</td>\n",
       "      <td>2 %</td>\n",
       "      <td>11 %</td>\n",
       "      <td>6 %</td>\n",
       "      <td>7 %</td>\n",
       "    </tr>\n",
       "  </tbody>\n",
       "</table>\n",
       "</div>"
      ],
      "text/plain": [
       "  Institut  Auftraggeber                 Befragte       Datum  Unnamed: 4  \\\n",
       "0      GMS  Sat.1 Bayern  T • 1.004 14.09.–20.09.  21.09.2022         NaN   \n",
       "1     INSA          BILD  O • 1.000 20.06.–27.06.  29.06.2022         NaN   \n",
       "2      GMS  Sat.1 Bayern  T • 1.002 15.06.–20.06.  20.06.2022         NaN   \n",
       "3    Forsa      RTL/n-tv  T • 1.049 23.05.–03.06.  07.06.2022         NaN   \n",
       "4    Forsa           VNP  T • 1.235 27.04.–13.05.  24.05.2022         NaN   \n",
       "\n",
       "    CSU   SPD GRÜNE  FDP LINKE    FW   AfD           Sonstige  \n",
       "0  40 %   8 %  18 %  6 %   2 %  10 %  11 %  BP 1 % Sonst. 4 %  \n",
       "1  37 %  10 %  20 %  7 %   2 %  10 %   9 %                5 %  \n",
       "2  40 %   9 %  20 %  5 %   2 %   9 %   8 %  BP 1 % Sonst. 6 %  \n",
       "3  40 %   9 %  20 %  6 %   1 %  10 %   7 %                7 %  \n",
       "4  39 %  10 %  20 %  5 %   2 %  11 %   6 %                7 %  "
      ]
     },
     "execution_count": 16,
     "metadata": {},
     "output_type": "execute_result"
    }
   ],
   "source": [
    "df = pd.read_html('https://www.wahlrecht.de/umfragen/landtage/bayern.htm')[1]\n",
    "\n",
    "df.head()"
   ]
  },
  {
   "cell_type": "code",
   "execution_count": 20,
   "metadata": {},
   "outputs": [
    {
     "data": {
      "text/plain": [
       "{'csu': 0.41598421535187935,\n",
       " 'spd': 0.06913879898993365,\n",
       " 'gruen': 0.18920163587495611,\n",
       " 'fdp': 0.06393658144954247,\n",
       " 'linke': 0.0,\n",
       " 'fw': 0.12891479934770284,\n",
       " 'afd': 0.13282396898598559}"
      ]
     },
     "execution_count": 20,
     "metadata": {},
     "output_type": "execute_result"
    }
   ],
   "source": [
    "parties = {\n",
    "    'csu': make_dist(0.40, 0.02), \n",
    "    'spd': make_dist(0.08, 0.02), \n",
    "    'gruen': make_dist(0.18, 0.02), \n",
    "    'fdp': make_dist(0.06, 0.02), \n",
    "    'linke': make_dist(0.02, 0.02), \n",
    "    \"fw\": make_dist(0.10, 0.02),\n",
    "    'afd': make_dist(0.11, 0.02)\n",
    "}\n",
    "\n",
    "def get_prediction():\n",
    "    result = {}\n",
    "    total = 0\n",
    "    for name, p in parties.items():\n",
    "        result[name] = p.rvs(1)[0]\n",
    "        if result[name] < 0.05:\n",
    "            result[name] = 0\n",
    "        total += result[name]\n",
    "    result = {name: p / total for name, p in result.items()}\n",
    "    return result\n",
    "\n",
    "def predictions():\n",
    "    for _ in range(1000):\n",
    "        yield get_prediction()\n",
    "\n",
    "get_prediction()"
   ]
  },
  {
   "cell_type": "code",
   "execution_count": 28,
   "metadata": {},
   "outputs": [
    {
     "name": "stdout",
     "output_type": "stream",
     "text": [
      "{'linke': 922, 'spd': 43, 'fdp': 324, 'fw': 2}\n",
      "2.3\n",
      "89.9\n"
     ]
    }
   ],
   "source": [
    "count = 0\n",
    "count_csu = 0\n",
    "\n",
    "outside = {}\n",
    "\n",
    "for prediction in predictions():\n",
    "    if prediction['csu'] > 0.5:\n",
    "        count_csu += 1\n",
    "    if prediction['csu'] + prediction['fw'] > 0.5:\n",
    "        count += 1\n",
    "    for name in prediction.keys():\n",
    "        if prediction[name] == 0:\n",
    "            if name not in outside:\n",
    "                outside[name] = 0\n",
    "            outside[name] += 1\n",
    "\n",
    "\n",
    "print(outside)\n",
    "print(count_csu / 10)\n",
    "print(count / 10)"
   ]
  },
  {
   "cell_type": "markdown",
   "metadata": {},
   "source": [
    "# Bundestag"
   ]
  },
  {
   "cell_type": "code",
   "execution_count": 30,
   "metadata": {},
   "outputs": [
    {
     "data": {
      "text/plain": [
       "{'union': 0.34950711288085734,\n",
       " 'spd': 0.22139534623551066,\n",
       " 'gruen': 0.25541057707754816,\n",
       " 'fdp': 0.0,\n",
       " 'linke': 0.0,\n",
       " 'afd': 0.17368696380608387}"
      ]
     },
     "execution_count": 30,
     "metadata": {},
     "output_type": "execute_result"
    }
   ],
   "source": [
    "parties = {\n",
    "    'union': make_dist(0.28, 0.02), \n",
    "    'spd': make_dist(0.18, 0.02), \n",
    "    'gruen': make_dist(0.20, 0.02), \n",
    "    'fdp': make_dist(0.06, 0.02), \n",
    "    'linke': make_dist(0.05, 0.02), \n",
    "    'afd': make_dist(0.14, 0.02)\n",
    "}\n",
    "\n",
    "def get_prediction():\n",
    "    result = {}\n",
    "    total = 0\n",
    "    for name, p in parties.items():\n",
    "        result[name] = p.rvs(1)[0]\n",
    "        if result[name] < 0.05:\n",
    "            result[name] = 0\n",
    "        total += result[name]\n",
    "    result = {name: p / total for name, p in result.items()}\n",
    "    return result\n",
    "\n",
    "def predictions():\n",
    "    for _ in range(1000):\n",
    "        yield get_prediction()\n",
    "\n",
    "get_prediction()"
   ]
  },
  {
   "cell_type": "code",
   "execution_count": 34,
   "metadata": {},
   "outputs": [
    {
     "name": "stdout",
     "output_type": "stream",
     "text": [
      "{'linke': 549, 'fdp': 349}\n",
      "3.9\n",
      "70.3\n",
      "19.4\n"
     ]
    }
   ],
   "source": [
    "count_rg = 0\n",
    "count_ur = 0\n",
    "count_ug = 0\n",
    "\n",
    "outside = {}\n",
    "\n",
    "for prediction in predictions():\n",
    "    if prediction['spd'] + prediction['gruen'] > 0.5:\n",
    "        count_rg += 1\n",
    "    elif prediction['spd'] + prediction['union'] > 0.5:\n",
    "        count_ur += 1\n",
    "    elif prediction['union'] + prediction['gruen'] > 0.5:\n",
    "        count_ug += 1\n",
    "\n",
    "    for name in prediction.keys():\n",
    "        if prediction[name] == 0:\n",
    "            if name not in outside:\n",
    "                outside[name] = 0\n",
    "            outside[name] += 1\n",
    "\n",
    "\n",
    "print(outside)\n",
    "print(count_rg / 10)\n",
    "print(count_ur / 10)\n",
    "print(count_ug / 10)"
   ]
  }
 ],
 "metadata": {
  "kernelspec": {
   "display_name": "Python 3 (ipykernel)",
   "language": "python",
   "name": "python3"
  },
  "language_info": {
   "codemirror_mode": {
    "name": "ipython",
    "version": 3
   },
   "file_extension": ".py",
   "mimetype": "text/x-python",
   "name": "python",
   "nbconvert_exporter": "python",
   "pygments_lexer": "ipython3",
   "version": "3.10.6"
  },
  "vscode": {
   "interpreter": {
    "hash": "9306fc2690db68c46a24136f6da2a5dc528391106da8b034a56e169114f82502"
   }
  }
 },
 "nbformat": 4,
 "nbformat_minor": 2
}
